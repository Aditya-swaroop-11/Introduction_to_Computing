{
 "cells": [
  {
   "cell_type": "code",
   "execution_count": 1,
   "id": "b4a9d891-aa3a-4470-a478-27c17afd7ee4",
   "metadata": {},
   "outputs": [
    {
     "name": "stdout",
     "output_type": "stream",
     "text": [
      "[('EN2001', 1), ('EN2002', 2), ('EN2003', 3), ('EN2004', 4)]\n"
     ]
    }
   ],
   "source": [
    "dic={'EN2001':1,'EN2002':2,'EN2003':3,'EN2004':4}\n",
    "lis=[]\n",
    "for i in dic.items():\n",
    "    lis.append(i)\n",
    "print(lis)"
   ]
  },
  {
   "cell_type": "code",
   "execution_count": 2,
   "id": "a121e438-aeb4-4bf6-aa3a-82551290e9e6",
   "metadata": {},
   "outputs": [
    {
     "name": "stdout",
     "output_type": "stream",
     "text": [
      "['EN2001', 'EN2002', 'EN2003', 'EN2004']\n"
     ]
    }
   ],
   "source": [
    "lis=['EN2004','EN2005','EN2001','EN2005']\n",
    "lis=[]\n",
    "for i,j in dic.items():\n",
    "    lis.append(i)\n",
    "print(lis)"
   ]
  },
  {
   "cell_type": "code",
   "execution_count": null,
   "id": "b0c3fbc5-e33c-459b-8328-86441d4b5e5f",
   "metadata": {},
   "outputs": [],
   "source": [
    "list1=['sem_1','sem_2']\n",
    "list2=[['ITD','CCT','EM','EP','IOT'],['DN','POE','FOP','ITC']]\n",
    "a=input(\"enter the semester\")\n",
    "for ele in list1:\n",
    "    for i in list2:\n",
    "        if a==ele:\n",
    "            print(i)\n",
    "        elif a==i:\n",
    "            print(ele)\n",
    "        \n"
   ]
  },
  {
   "cell_type": "code",
   "execution_count": 12,
   "id": "d34a1bd8-0e02-4a76-9d7d-576e654e95bc",
   "metadata": {},
   "outputs": [
    {
     "name": "stdout",
     "output_type": "stream",
     "text": [
      "{'sem1': ['ITD', 'CCT', 'EM', 'EP', 'IOT'], 'sem2': ['DT', 'POE', 'FOP', 'ITC']}\n"
     ]
    },
    {
     "name": "stdin",
     "output_type": "stream",
     "text": [
      "enter the semester (format='sem1') DT\n"
     ]
    },
    {
     "name": "stdout",
     "output_type": "stream",
     "text": [
      "You have entered the subject\n"
     ]
    },
    {
     "name": "stdin",
     "output_type": "stream",
     "text": [
      "enter the subject (format='DT') DT\n"
     ]
    },
    {
     "name": "stdout",
     "output_type": "stream",
     "text": [
      "Invalid input\n",
      "sem2\n"
     ]
    }
   ],
   "source": [
    "list1=['sem1','sem2']\n",
    "list2=[['ITD','CCT','EM','EP','IOT'],['DT','POE','FOP','ITC']]\n",
    "lis=[]\n",
    "for (ele1,ele2) in zip(list1,list2):\n",
    "    tuplee=(ele1,ele2)\n",
    "    lis.append(tuplee)\n",
    "    \n",
    "lis=dict(lis)\n",
    "print(lis)\n",
    "\n",
    "a=input(\"enter the semester (format='sem1')\")\n",
    "for i,j in lis.items():\n",
    "        if i==a:\n",
    "            print(\"The subjects are:\")\n",
    "            print(j)\n",
    "            break\n",
    "else:\n",
    "    print(\"You have entered the subject\")\n",
    "    b=input(\"enter the subject (format='DT')\")\n",
    "    for i,j in lis.items():\n",
    "        for ele in j:\n",
    "            \n",
    "            if b==ele:\n",
    "                print(i)\n",
    "                break\n",
    "            else:\n",
    "                print(\"Invalid input\")\n",
    "                break\n",
    "            \n"
   ]
  },
  {
   "cell_type": "code",
   "execution_count": 15,
   "id": "f6a273aa-c76d-4211-a82f-3bc50e6a6521",
   "metadata": {},
   "outputs": [
    {
     "ename": "KeyboardInterrupt",
     "evalue": "Interrupted by user",
     "output_type": "error",
     "traceback": [
      "\u001b[1;31m---------------------------------------------------------------------------\u001b[0m",
      "\u001b[1;31mKeyboardInterrupt\u001b[0m                         Traceback (most recent call last)",
      "Cell \u001b[1;32mIn[15], line 10\u001b[0m\n\u001b[0;32m      6\u001b[0m     lis\u001b[38;5;241m.\u001b[39mappend(tuplee)\n\u001b[0;32m      8\u001b[0m lis\u001b[38;5;241m=\u001b[39m\u001b[38;5;28mdict\u001b[39m(lis)\n\u001b[1;32m---> 10\u001b[0m a\u001b[38;5;241m=\u001b[39m\u001b[38;5;28;43minput\u001b[39;49m\u001b[43m(\u001b[49m\u001b[38;5;124;43m\"\u001b[39;49m\u001b[38;5;124;43menter the semester (format=\u001b[39;49m\u001b[38;5;124;43m'\u001b[39;49m\u001b[38;5;124;43msem1\u001b[39;49m\u001b[38;5;124;43m'\u001b[39;49m\u001b[38;5;124;43m)\u001b[39;49m\u001b[38;5;124;43m\"\u001b[39;49m\u001b[43m)\u001b[49m\n\u001b[0;32m     11\u001b[0m \u001b[38;5;28;01mfor\u001b[39;00m i,j \u001b[38;5;129;01min\u001b[39;00m lis\u001b[38;5;241m.\u001b[39mitems():\n\u001b[0;32m     12\u001b[0m         \u001b[38;5;28;01mif\u001b[39;00m i\u001b[38;5;241m==\u001b[39ma:\n",
      "File \u001b[1;32m~\\AppData\\Local\\Packages\\PythonSoftwareFoundation.Python.3.12_qbz5n2kfra8p0\\LocalCache\\local-packages\\Python312\\site-packages\\ipykernel\\kernelbase.py:1282\u001b[0m, in \u001b[0;36mKernel.raw_input\u001b[1;34m(self, prompt)\u001b[0m\n\u001b[0;32m   1280\u001b[0m     msg \u001b[38;5;241m=\u001b[39m \u001b[38;5;124m\"\u001b[39m\u001b[38;5;124mraw_input was called, but this frontend does not support input requests.\u001b[39m\u001b[38;5;124m\"\u001b[39m\n\u001b[0;32m   1281\u001b[0m     \u001b[38;5;28;01mraise\u001b[39;00m StdinNotImplementedError(msg)\n\u001b[1;32m-> 1282\u001b[0m \u001b[38;5;28;01mreturn\u001b[39;00m \u001b[38;5;28;43mself\u001b[39;49m\u001b[38;5;241;43m.\u001b[39;49m\u001b[43m_input_request\u001b[49m\u001b[43m(\u001b[49m\n\u001b[0;32m   1283\u001b[0m \u001b[43m    \u001b[49m\u001b[38;5;28;43mstr\u001b[39;49m\u001b[43m(\u001b[49m\u001b[43mprompt\u001b[49m\u001b[43m)\u001b[49m\u001b[43m,\u001b[49m\n\u001b[0;32m   1284\u001b[0m \u001b[43m    \u001b[49m\u001b[38;5;28;43mself\u001b[39;49m\u001b[38;5;241;43m.\u001b[39;49m\u001b[43m_parent_ident\u001b[49m\u001b[43m[\u001b[49m\u001b[38;5;124;43m\"\u001b[39;49m\u001b[38;5;124;43mshell\u001b[39;49m\u001b[38;5;124;43m\"\u001b[39;49m\u001b[43m]\u001b[49m\u001b[43m,\u001b[49m\n\u001b[0;32m   1285\u001b[0m \u001b[43m    \u001b[49m\u001b[38;5;28;43mself\u001b[39;49m\u001b[38;5;241;43m.\u001b[39;49m\u001b[43mget_parent\u001b[49m\u001b[43m(\u001b[49m\u001b[38;5;124;43m\"\u001b[39;49m\u001b[38;5;124;43mshell\u001b[39;49m\u001b[38;5;124;43m\"\u001b[39;49m\u001b[43m)\u001b[49m\u001b[43m,\u001b[49m\n\u001b[0;32m   1286\u001b[0m \u001b[43m    \u001b[49m\u001b[43mpassword\u001b[49m\u001b[38;5;241;43m=\u001b[39;49m\u001b[38;5;28;43;01mFalse\u001b[39;49;00m\u001b[43m,\u001b[49m\n\u001b[0;32m   1287\u001b[0m \u001b[43m\u001b[49m\u001b[43m)\u001b[49m\n",
      "File \u001b[1;32m~\\AppData\\Local\\Packages\\PythonSoftwareFoundation.Python.3.12_qbz5n2kfra8p0\\LocalCache\\local-packages\\Python312\\site-packages\\ipykernel\\kernelbase.py:1325\u001b[0m, in \u001b[0;36mKernel._input_request\u001b[1;34m(self, prompt, ident, parent, password)\u001b[0m\n\u001b[0;32m   1322\u001b[0m \u001b[38;5;28;01mexcept\u001b[39;00m \u001b[38;5;167;01mKeyboardInterrupt\u001b[39;00m:\n\u001b[0;32m   1323\u001b[0m     \u001b[38;5;66;03m# re-raise KeyboardInterrupt, to truncate traceback\u001b[39;00m\n\u001b[0;32m   1324\u001b[0m     msg \u001b[38;5;241m=\u001b[39m \u001b[38;5;124m\"\u001b[39m\u001b[38;5;124mInterrupted by user\u001b[39m\u001b[38;5;124m\"\u001b[39m\n\u001b[1;32m-> 1325\u001b[0m     \u001b[38;5;28;01mraise\u001b[39;00m \u001b[38;5;167;01mKeyboardInterrupt\u001b[39;00m(msg) \u001b[38;5;28;01mfrom\u001b[39;00m \u001b[38;5;28;01mNone\u001b[39;00m\n\u001b[0;32m   1326\u001b[0m \u001b[38;5;28;01mexcept\u001b[39;00m \u001b[38;5;167;01mException\u001b[39;00m:\n\u001b[0;32m   1327\u001b[0m     \u001b[38;5;28mself\u001b[39m\u001b[38;5;241m.\u001b[39mlog\u001b[38;5;241m.\u001b[39mwarning(\u001b[38;5;124m\"\u001b[39m\u001b[38;5;124mInvalid Message:\u001b[39m\u001b[38;5;124m\"\u001b[39m, exc_info\u001b[38;5;241m=\u001b[39m\u001b[38;5;28;01mTrue\u001b[39;00m)\n",
      "\u001b[1;31mKeyboardInterrupt\u001b[0m: Interrupted by user"
     ]
    }
   ],
   "source": [
    "list1=['sem1','sem2']\n",
    "list2=[['ITD','CCT','EM','EP','IOT'],['DT','POE','FOP','ITC']]\n",
    "lis=[]\n",
    "for (ele1,ele2) in zip(list1,list2):\n",
    "    tuplee=(ele1,ele2)\n",
    "    lis.append(tuplee)\n",
    "    \n",
    "lis=dict(lis)\n",
    "\n",
    "a=input(\"enter the semester (format='sem1')\")\n",
    "for i,j in lis.items():\n",
    "        if i==a:\n",
    "            print(\"The subjects are:\")\n",
    "            print(j)\n",
    "            break\n",
    "else:\n",
    "    print(\"You have entered the subject\")\n",
    "    b=input(\"enter the subject (format='DT')\")\n",
    "    pip = 0\n",
    "    for i,j in lis.items():\n",
    "        for ele in j:\n",
    "            if b==ele:\n",
    "                print(i)\n",
    "                pip = 1\n",
    "                break\n",
    "    if pip == 0 :\n",
    "        print(\"Invalid input\") \n",
    "            \n"
   ]
  },
  {
   "cell_type": "code",
   "execution_count": 10,
   "id": "cadb06da-0394-4f6a-b910-a43ab4ea9247",
   "metadata": {},
   "outputs": [
    {
     "ename": "IndentationError",
     "evalue": "unindent does not match any outer indentation level (<string>, line 16)",
     "output_type": "error",
     "traceback": [
      "\u001b[1;36m  File \u001b[1;32m<string>:16\u001b[1;36m\u001b[0m\n\u001b[1;33m    else:\u001b[0m\n\u001b[1;37m         ^\u001b[0m\n\u001b[1;31mIndentationError\u001b[0m\u001b[1;31m:\u001b[0m unindent does not match any outer indentation level\n"
     ]
    }
   ],
   "source": [
    "list1=['sem1','sem2']\n",
    "list2=[['ITD','CCT','EM','EP','IOT'],['DT','POE','FOP','ITC']]\n",
    "lis=[]\n",
    "for (ele1,ele2) in zip(list1,list2):\n",
    "    tuplee=(ele1,ele2)\n",
    "    lis.append(tuplee)\n",
    "    \n",
    "lis=dict(lis)\n",
    "\n",
    "a=input(\"enter the semester(format='sem1') or subject(format='DT')\")\n",
    "for i,j in lis.items():\n",
    "        if i==a:\n",
    "            print(\"The subjects are:\")\n",
    "            print(j)\n",
    "            break\n",
    "    else:\n",
    "        hp=0\n",
    "        for i,j in lis.items():\n",
    "            for ele in j:\n",
    "                if a==ele:\n",
    "                    print(\"The samester is:\")\n",
    "                    print(i)\n",
    "                    hp=1\n",
    "                    break\n",
    "            if hp==0 :\n",
    "                print(\"Invalid input\") \n",
    "                \n"
   ]
  },
  {
   "cell_type": "code",
   "execution_count": 4,
   "id": "7ba63c09-795e-4795-b160-c6ce528a1f75",
   "metadata": {},
   "outputs": [
    {
     "name": "stdin",
     "output_type": "stream",
     "text": [
      "Enter the semester(format='sem1') or subject(format='DT') DT\n"
     ]
    },
    {
     "name": "stdout",
     "output_type": "stream",
     "text": [
      "The samester is:\n",
      "sem2\n",
      "The samester is:\n",
      "sem2\n"
     ]
    }
   ],
   "source": [
    "list1=['sem1','sem2']\n",
    "list2=[['ITD','CCT','EM','EP','IOT'],['DT','POE','FOP','ITC']]\n",
    "lis=[]\n",
    "for (ele1,ele2) in zip(list1,list2):\n",
    "    tuplee=(ele1,ele2)\n",
    "    lis.append(tuplee)\n",
    "    \n",
    "lis=dict(lis)\n",
    "\n",
    "a=input(\"Enter the semester(format='sem1') or subject(format='DT')\")\n",
    "for i,j in lis.items():\n",
    "        if i==a:\n",
    "            print(\"The subjects are:\")\n",
    "            print(j)\n",
    "            break\n",
    "        else:\n",
    "            hp=0\n",
    "            for i,j in lis.items():\n",
    "                for ele in j:\n",
    "                    if a==ele:\n",
    "                        print(\"The samester is:\")\n",
    "                        print(i) \n",
    "                        hp=1\n",
    "                        break\n",
    "                        \n",
    "            if hp==0 :\n",
    "                print(\"Invalid input\") \n",
    "                \n"
   ]
  },
  {
   "cell_type": "code",
   "execution_count": 8,
   "id": "39357f9f-3440-4ad3-b1d2-6d1b854222c9",
   "metadata": {},
   "outputs": [
    {
     "name": "stdin",
     "output_type": "stream",
     "text": [
      "Enter the semester (format='sem1') or subject (format='DT'):  asdfghjk\n"
     ]
    },
    {
     "name": "stdout",
     "output_type": "stream",
     "text": [
      "Invalid input\n"
     ]
    }
   ],
   "source": [
    "list1 = ['sem1', 'sem2']\n",
    "list2 = [['ITD', 'CCT', 'EM', 'EP', 'IOT'], ['DT', 'POE', 'FOP', 'ITC']]\n",
    "lis = []\n",
    "for (ele1, ele2) in zip(list1, list2):\n",
    "    tuplee = (ele1, ele2)\n",
    "    lis.append(tuplee)\n",
    "\n",
    "lis = dict(lis)\n",
    "\n",
    "a = input(\"Enter the semester (format='sem1') or subject (format='DT'): \")\n",
    "found = False\n",
    "for semester, subjects in lis.items():\n",
    "    if a == semester:\n",
    "        found = True\n",
    "        print(\"The subjects are:\")\n",
    "        print(subjects)\n",
    "        break\n",
    "if not found:\n",
    "    for semester, subjects in lis.items():\n",
    "        if a in subjects:\n",
    "            found = True\n",
    "            print(\"The semester is:\")\n",
    "            print(semester)\n",
    "            break\n",
    "\n",
    "if not found:\n",
    "    print(\"Invalid input\")\n"
   ]
  },
  {
   "cell_type": "code",
   "execution_count": 18,
   "id": "45ce60aa-d011-4663-bf81-e0e7f678b30e",
   "metadata": {},
   "outputs": [
    {
     "name": "stdout",
     "output_type": "stream",
     "text": [
      "[1, 2, 3]\n"
     ]
    }
   ],
   "source": [
    "#converting tuple to list\n",
    "tup=(1,2,3)\n",
    "lis=[element for element in tup]\n",
    "print(lis)"
   ]
  },
  {
   "cell_type": "code",
   "execution_count": 23,
   "id": "07abfa4b-fde1-45e3-8005-d349c3ec9724",
   "metadata": {},
   "outputs": [
    {
     "name": "stdout",
     "output_type": "stream",
     "text": [
      "['a', 'b', 'c']\n"
     ]
    }
   ],
   "source": [
    "dic={'a':1,'b':2,'c':3}\n",
    "lis=list(dic)\n",
    "print(lis)\n"
   ]
  },
  {
   "cell_type": "code",
   "execution_count": 22,
   "id": "0683c492-869b-4dbb-add9-bf119cf7de94",
   "metadata": {},
   "outputs": [
    {
     "name": "stdout",
     "output_type": "stream",
     "text": [
      "[('a', 1), ('b', 2), ('c', 3)]\n"
     ]
    }
   ],
   "source": [
    "dic={'a':1,'b':2,'c':3}\n",
    "lis=list(dic.items())\n",
    "print(lis)\n"
   ]
  },
  {
   "cell_type": "code",
   "execution_count": 2,
   "id": "068c57a6-068e-4ac5-b60b-a945292ee018",
   "metadata": {},
   "outputs": [
    {
     "name": "stdout",
     "output_type": "stream",
     "text": [
      "(1, 2, 3, 4)\n"
     ]
    }
   ],
   "source": [
    "tup=(1, 2, 3)\n",
    "element = 4\n",
    "tupl = tup + (element,)\n",
    "print(tupl)"
   ]
  },
  {
   "cell_type": "code",
   "execution_count": 2,
   "id": "905b2986-d11b-4645-8b99-8ab2756a82ae",
   "metadata": {},
   "outputs": [
    {
     "name": "stdout",
     "output_type": "stream",
     "text": [
      "(1, 2, 3, 4)\n"
     ]
    }
   ],
   "source": [
    "original_tuple = (1, 2, 3)\n",
    "new_element = 4\n",
    " \n",
    "appended_tuple = original_tuple + (new_element,)\n",
    "print(appended_tuple)"
   ]
  },
  {
   "cell_type": "code",
   "execution_count": null,
   "id": "72169483-1bbb-4bcc-a373-95bef3eb2abc",
   "metadata": {},
   "outputs": [],
   "source": []
  }
 ],
 "metadata": {
  "kernelspec": {
   "display_name": "Python 3 (ipykernel)",
   "language": "python",
   "name": "python3"
  },
  "language_info": {
   "codemirror_mode": {
    "name": "ipython",
    "version": 3
   },
   "file_extension": ".py",
   "mimetype": "text/x-python",
   "name": "python",
   "nbconvert_exporter": "python",
   "pygments_lexer": "ipython3",
   "version": "3.12.3"
  }
 },
 "nbformat": 4,
 "nbformat_minor": 5
}
