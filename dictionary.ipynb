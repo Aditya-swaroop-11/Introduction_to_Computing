{
 "cells": [
  {
   "cell_type": "code",
   "execution_count": 17,
   "id": "be7ab002-4069-43b8-a573-1ded076b82e9",
   "metadata": {},
   "outputs": [
    {
     "name": "stdin",
     "output_type": "stream",
     "text": [
      "enter the number of elements you want to enter : 3\n",
      "enter the elements  2,3,2\n"
     ]
    },
    {
     "name": "stdout",
     "output_type": "stream",
     "text": [
      "the elements entered is as specified \n"
     ]
    },
    {
     "name": "stdin",
     "output_type": "stream",
     "text": [
      "enter the number n  2\n"
     ]
    },
    {
     "name": "stdout",
     "output_type": "stream",
     "text": [
      "found at index 0\n"
     ]
    }
   ],
   "source": [
    "m = int(input(\"enter the number of elements you want to enter :\"))\n",
    "elements = input(\"enter the elements \").split(',')\n",
    "\n",
    "o=m-len(elements)\n",
    "\n",
    "if len(elements)==m:\n",
    "    print(\"the elements entered is as specified \")\n",
    "    N = input(\"enter the number n \")\n",
    "\n",
    "    if N in elements:\n",
    "        i=elements.index(N)\n",
    "        print(\"found at index\",i)\n",
    "    else:\n",
    "        print(\"etterluck next time\")\n",
    "    \n",
    "elif len(elements)<m:\n",
    "    print(\"number of elements entered is\",o,\" less than specified\")\n",
    "else:\n",
    "    print(\"number of elements entered is\",-1*o,\"more than specified\")"
   ]
  },
  {
   "cell_type": "code",
   "execution_count": 21,
   "id": "500625b8-c131-4a8c-b2d2-d66e66ad4fb7",
   "metadata": {},
   "outputs": [
    {
     "name": "stdin",
     "output_type": "stream",
     "text": [
      " 6\n",
      " 1;2;3;4;5;6\n"
     ]
    },
    {
     "name": "stdout",
     "output_type": "stream",
     "text": [
      "the elements entered is as specified \n",
      "21\n"
     ]
    }
   ],
   "source": []
  },
  {
   "cell_type": "code",
   "execution_count": 19,
   "id": "8666722a-8933-48b2-9a37-fa1b5255b35d",
   "metadata": {},
   "outputs": [
    {
     "name": "stdin",
     "output_type": "stream",
     "text": [
      "Enter at least 3 literals Welcome to EN2004\n"
     ]
    },
    {
     "name": "stdout",
     "output_type": "stream",
     "text": [
      "['EN2004']\n",
      "['to']\n",
      "['Welcome']\n"
     ]
    }
   ],
   "source": [
    "M= input(\"Enter at least 3 literals\").split(' ')\n",
    "\n",
    "\n",
    "try:\n",
    "    if len(M)>3<len(M):\n",
    "        raise ValueError(\"the number of entered litrals should be 3\")\n",
    "    n=M[:1:-1]\n",
    "    print(n) \n",
    "    o=M[1:0:-1]\n",
    "    print(o)\n",
    "    p=M[0:1]\n",
    "    print(p)\n",
    "except ValueError as e:\n",
    "    print(\"an error has occured the entered numbers of literals does not match the specifed number of literals\",e)"
   ]
  },
  {
   "cell_type": "code",
   "execution_count": 20,
   "id": "519df61d-78d6-4105-a47f-2f3319b89bf3",
   "metadata": {},
   "outputs": [
    {
     "name": "stdin",
     "output_type": "stream",
     "text": [
      " Welcome to EN2004\n"
     ]
    },
    {
     "name": "stdout",
     "output_type": "stream",
     "text": [
      "EN2004\n",
      "to\n",
      "Welcome\n"
     ]
    }
   ],
   "source": [
    "a = [] #list\n",
    "M = input() #string input from user\n",
    "b = M.split() # using spilit function\n",
    "for i in range(len(b)-1,-1,-1): #condition\n",
    "    a.append(b[i]) #appending the value\n",
    "for ele in a:  #condition for element\n",
    "    print(ele) "
   ]
  },
  {
   "cell_type": "code",
   "execution_count": 15,
   "id": "76dd3091-c5fb-40c8-bf2d-3c4fc510eec4",
   "metadata": {},
   "outputs": [
    {
     "name": "stdin",
     "output_type": "stream",
     "text": [
      " 4\n",
      " 4\n",
      " 5\n",
      " 1\n",
      " 2\n"
     ]
    },
    {
     "name": "stdout",
     "output_type": "stream",
     "text": [
      "[4, 5, 1, 2]\n"
     ]
    }
   ],
   "source": [
    "a=[]\n",
    "b=int(input(\"\"))\n",
    "i=1\n",
    "while i<=b:\n",
    "    c=int(input(\"\"))\n",
    "    a.append(c)\n",
    "    i+=1\n",
    "print(a)"
   ]
  },
  {
   "cell_type": "code",
   "execution_count": 22,
   "id": "de02e1a6-a1e4-4e65-856b-3c9df680d3d9",
   "metadata": {},
   "outputs": [
    {
     "name": "stdin",
     "output_type": "stream",
     "text": [
      "enter row 33\n",
      "enter column 2\n"
     ]
    },
    {
     "name": "stdout",
     "output_type": "stream",
     "text": [
      "*"
     ]
    }
   ],
   "source": [
    "a=int(input(\"enter row\"))\n",
    "i=1\n",
    "if i<=a:\n",
    "    j=1\n",
    "    b=int(input(\"enter column\"))\n",
    "    if j<=b:\n",
    "        print(\"*\",end='')\n",
    "    else:\n",
    "        print()\n",
    "else:\n",
    "    print()\n",
    "    "
   ]
  },
  {
   "cell_type": "code",
   "execution_count": 29,
   "id": "d33cb07d-dca3-428d-bdba-74a921a3ed99",
   "metadata": {},
   "outputs": [
    {
     "ename": "KeyboardInterrupt",
     "evalue": "Interrupted by user",
     "output_type": "error",
     "traceback": [
      "\u001b[1;31m---------------------------------------------------------------------------\u001b[0m",
      "\u001b[1;31mKeyboardInterrupt\u001b[0m                         Traceback (most recent call last)",
      "Cell \u001b[1;32mIn[29], line 2\u001b[0m\n\u001b[0;32m      1\u001b[0m i\u001b[38;5;241m=\u001b[39m\u001b[38;5;241m1\u001b[39m\n\u001b[1;32m----> 2\u001b[0m a\u001b[38;5;241m=\u001b[39m\u001b[38;5;28mint\u001b[39m(\u001b[38;5;28;43minput\u001b[39;49m\u001b[43m(\u001b[49m\u001b[43m)\u001b[49m)\n\u001b[0;32m      3\u001b[0m \u001b[38;5;28;01mwhile\u001b[39;00m i\u001b[38;5;241m<\u001b[39m\u001b[38;5;241m=\u001b[39ma:\n\u001b[0;32m      5\u001b[0m     b\u001b[38;5;241m=\u001b[39m\u001b[38;5;28mint\u001b[39m(\u001b[38;5;28minput\u001b[39m())\n",
      "File \u001b[1;32m~\\AppData\\Local\\Packages\\PythonSoftwareFoundation.Python.3.12_qbz5n2kfra8p0\\LocalCache\\local-packages\\Python312\\site-packages\\ipykernel\\kernelbase.py:1282\u001b[0m, in \u001b[0;36mKernel.raw_input\u001b[1;34m(self, prompt)\u001b[0m\n\u001b[0;32m   1280\u001b[0m     msg \u001b[38;5;241m=\u001b[39m \u001b[38;5;124m\"\u001b[39m\u001b[38;5;124mraw_input was called, but this frontend does not support input requests.\u001b[39m\u001b[38;5;124m\"\u001b[39m\n\u001b[0;32m   1281\u001b[0m     \u001b[38;5;28;01mraise\u001b[39;00m StdinNotImplementedError(msg)\n\u001b[1;32m-> 1282\u001b[0m \u001b[38;5;28;01mreturn\u001b[39;00m \u001b[38;5;28;43mself\u001b[39;49m\u001b[38;5;241;43m.\u001b[39;49m\u001b[43m_input_request\u001b[49m\u001b[43m(\u001b[49m\n\u001b[0;32m   1283\u001b[0m \u001b[43m    \u001b[49m\u001b[38;5;28;43mstr\u001b[39;49m\u001b[43m(\u001b[49m\u001b[43mprompt\u001b[49m\u001b[43m)\u001b[49m\u001b[43m,\u001b[49m\n\u001b[0;32m   1284\u001b[0m \u001b[43m    \u001b[49m\u001b[38;5;28;43mself\u001b[39;49m\u001b[38;5;241;43m.\u001b[39;49m\u001b[43m_parent_ident\u001b[49m\u001b[43m[\u001b[49m\u001b[38;5;124;43m\"\u001b[39;49m\u001b[38;5;124;43mshell\u001b[39;49m\u001b[38;5;124;43m\"\u001b[39;49m\u001b[43m]\u001b[49m\u001b[43m,\u001b[49m\n\u001b[0;32m   1285\u001b[0m \u001b[43m    \u001b[49m\u001b[38;5;28;43mself\u001b[39;49m\u001b[38;5;241;43m.\u001b[39;49m\u001b[43mget_parent\u001b[49m\u001b[43m(\u001b[49m\u001b[38;5;124;43m\"\u001b[39;49m\u001b[38;5;124;43mshell\u001b[39;49m\u001b[38;5;124;43m\"\u001b[39;49m\u001b[43m)\u001b[49m\u001b[43m,\u001b[49m\n\u001b[0;32m   1286\u001b[0m \u001b[43m    \u001b[49m\u001b[43mpassword\u001b[49m\u001b[38;5;241;43m=\u001b[39;49m\u001b[38;5;28;43;01mFalse\u001b[39;49;00m\u001b[43m,\u001b[49m\n\u001b[0;32m   1287\u001b[0m \u001b[43m\u001b[49m\u001b[43m)\u001b[49m\n",
      "File \u001b[1;32m~\\AppData\\Local\\Packages\\PythonSoftwareFoundation.Python.3.12_qbz5n2kfra8p0\\LocalCache\\local-packages\\Python312\\site-packages\\ipykernel\\kernelbase.py:1325\u001b[0m, in \u001b[0;36mKernel._input_request\u001b[1;34m(self, prompt, ident, parent, password)\u001b[0m\n\u001b[0;32m   1322\u001b[0m \u001b[38;5;28;01mexcept\u001b[39;00m \u001b[38;5;167;01mKeyboardInterrupt\u001b[39;00m:\n\u001b[0;32m   1323\u001b[0m     \u001b[38;5;66;03m# re-raise KeyboardInterrupt, to truncate traceback\u001b[39;00m\n\u001b[0;32m   1324\u001b[0m     msg \u001b[38;5;241m=\u001b[39m \u001b[38;5;124m\"\u001b[39m\u001b[38;5;124mInterrupted by user\u001b[39m\u001b[38;5;124m\"\u001b[39m\n\u001b[1;32m-> 1325\u001b[0m     \u001b[38;5;28;01mraise\u001b[39;00m \u001b[38;5;167;01mKeyboardInterrupt\u001b[39;00m(msg) \u001b[38;5;28;01mfrom\u001b[39;00m \u001b[38;5;28;01mNone\u001b[39;00m\n\u001b[0;32m   1326\u001b[0m \u001b[38;5;28;01mexcept\u001b[39;00m \u001b[38;5;167;01mException\u001b[39;00m:\n\u001b[0;32m   1327\u001b[0m     \u001b[38;5;28mself\u001b[39m\u001b[38;5;241m.\u001b[39mlog\u001b[38;5;241m.\u001b[39mwarning(\u001b[38;5;124m\"\u001b[39m\u001b[38;5;124mInvalid Message:\u001b[39m\u001b[38;5;124m\"\u001b[39m, exc_info\u001b[38;5;241m=\u001b[39m\u001b[38;5;28;01mTrue\u001b[39;00m)\n",
      "\u001b[1;31mKeyboardInterrupt\u001b[0m: Interrupted by user"
     ]
    }
   ],
   "source": [
    "i=1\n",
    "a=int(input())\n",
    "while i<=a:\n",
    "\n",
    "    b=int(input())\n",
    "    while b<=i:\n",
    "        print(\"*\",end='')\n",
    "        i+=1\n",
    "    print()\n",
    "\n",
    "      "
   ]
  },
  {
   "cell_type": "code",
   "execution_count": 11,
   "id": "01af930a-6e80-4129-993e-53c08d8372a5",
   "metadata": {},
   "outputs": [
    {
     "name": "stdin",
     "output_type": "stream",
     "text": [
      " 9\n"
     ]
    },
    {
     "name": "stdout",
     "output_type": "stream",
     "text": [
      "1\n",
      "12\n",
      "123\n",
      "1234\n",
      "12345\n",
      "123456\n",
      "1234567\n",
      "12345678\n"
     ]
    }
   ],
   "source": [
    "a=int(input())\n",
    "for i in range(1,a):\n",
    "    for j in range(1,i+1):\n",
    "        print(j,end='')\n",
    "    print()\n",
    "    \n",
    "\n",
    "    "
   ]
  },
  {
   "cell_type": "code",
   "execution_count": 6,
   "id": "ecfb6f18-e40c-487b-aeb6-bf694ad7e4bb",
   "metadata": {},
   "outputs": [
    {
     "name": "stdout",
     "output_type": "stream",
     "text": [
      "<class 'int'> 1\n"
     ]
    }
   ],
   "source": [
    "tup=(1)\n",
    "print(type(tup),tup)\n"
   ]
  },
  {
   "cell_type": "code",
   "execution_count": 4,
   "id": "2622e389-9daf-447d-9fad-923248894b8c",
   "metadata": {},
   "outputs": [
    {
     "name": "stdout",
     "output_type": "stream",
     "text": [
      "<class 'tuple'> (1,)\n"
     ]
    }
   ],
   "source": [
    "tup=(1,)\n",
    "print(type(tup),tup)\n"
   ]
  },
  {
   "cell_type": "code",
   "execution_count": 8,
   "id": "98616727-9dd0-4a26-8175-bbc8ac0bc0c9",
   "metadata": {},
   "outputs": [
    {
     "name": "stdout",
     "output_type": "stream",
     "text": [
      "<class 'tuple'> (1, 2, 3, 4, 'aditya')\n"
     ]
    }
   ],
   "source": [
    "tup=(1,2,3,4,\"aditya\")\n",
    "print(type(tup),tup)\n"
   ]
  },
  {
   "cell_type": "code",
   "execution_count": 7,
   "id": "7a06d259-8bed-4dc7-bddc-1024222bb5d9",
   "metadata": {},
   "outputs": [
    {
     "ename": "TypeError",
     "evalue": "'tuple' object does not support item assignment",
     "output_type": "error",
     "traceback": [
      "\u001b[1;31m---------------------------------------------------------------------------\u001b[0m",
      "\u001b[1;31mTypeError\u001b[0m                                 Traceback (most recent call last)",
      "Cell \u001b[1;32mIn[7], line 2\u001b[0m\n\u001b[0;32m      1\u001b[0m tup\u001b[38;5;241m=\u001b[39m(\u001b[38;5;241m2\u001b[39m,\u001b[38;5;241m3\u001b[39m,\u001b[38;5;241m4\u001b[39m,\u001b[38;5;241m5\u001b[39m)\n\u001b[1;32m----> 2\u001b[0m \u001b[43mtup\u001b[49m\u001b[43m[\u001b[49m\u001b[38;5;241;43m0\u001b[39;49m\u001b[43m]\u001b[49m\u001b[38;5;241m=\u001b[39m\u001b[38;5;241m34\u001b[39m\n\u001b[0;32m      3\u001b[0m \u001b[38;5;28mprint\u001b[39m(tup)\n",
      "\u001b[1;31mTypeError\u001b[0m: 'tuple' object does not support item assignment"
     ]
    }
   ],
   "source": [
    "tup=(2,3,4,5)\n",
    "tup[0]=34\n",
    "print(tup)   #means in tupple we can't add or subtract data"
   ]
  },
  {
   "cell_type": "code",
   "execution_count": 11,
   "id": "6cdcd572-ee31-46ec-82fe-0787eb943830",
   "metadata": {},
   "outputs": [
    {
     "name": "stdout",
     "output_type": "stream",
     "text": [
      "2\n",
      "3\n",
      "5\n",
      "(2, 3, 4, 5)\n"
     ]
    }
   ],
   "source": [
    "tup=(2,3,4,5)\n",
    "print(tup[0])\n",
    "print(tup[1])\n",
    "print(tup[-1])\n",
    "print(tup) "
   ]
  },
  {
   "cell_type": "code",
   "execution_count": 12,
   "id": "a94a4ac5-54d8-4fc8-8688-9e0cf2d34ecc",
   "metadata": {},
   "outputs": [
    {
     "name": "stdout",
     "output_type": "stream",
     "text": [
      "2\n",
      "3\n",
      "5\n",
      "(2, 3, 4, 5)\n",
      "yes, 3 is present in tuple\n"
     ]
    }
   ],
   "source": [
    "tup=(2,3,4,5)\n",
    "print(tup[0])\n",
    "print(tup[1])\n",
    "print(tup[-1])\n",
    "print(tup) \n",
    "if 3 in tup:\n",
    "    print (\"yes, 3 is present in tuple\")"
   ]
  },
  {
   "cell_type": "code",
   "execution_count": 15,
   "id": "d1f9d343-535c-4ac3-b2c3-2cb5e36fba4b",
   "metadata": {},
   "outputs": [
    {
     "name": "stdout",
     "output_type": "stream",
     "text": [
      "2\n",
      "3\n",
      "5\n",
      "(2, 3, 4, 5)\n",
      "yes, 3 is present in tuple\n",
      "(3, 4, 5)\n"
     ]
    }
   ],
   "source": [
    "tup=(2,3,4,5)\n",
    "print(tup[0])\n",
    "print(tup[1])\n",
    "print(tup[-1])\n",
    "print(tup) \n",
    "if 3 in tup:\n",
    "    print (\"yes, 3 is present in tuple\")\n",
    "tup2=tup[1:4]\n",
    "print(tup2)"
   ]
  },
  {
   "cell_type": "code",
   "execution_count": 21,
   "id": "1f65b8d0-20e6-4287-872e-6b884ac22ee6",
   "metadata": {},
   "outputs": [
    {
     "name": "stdout",
     "output_type": "stream",
     "text": [
      "{'a': 2, 'b': 3, 'c': 4}\n"
     ]
    }
   ],
   "source": [
    "dic={\"a\":2,\"b\":3,\"c\":4}\n",
    "print(dic)"
   ]
  },
  {
   "cell_type": "code",
   "execution_count": 32,
   "id": "22b405d8-a663-4798-b7fd-1e7900427885",
   "metadata": {},
   "outputs": [
    {
     "ename": "SyntaxError",
     "evalue": "invalid syntax (3885955260.py, line 2)",
     "output_type": "error",
     "traceback": [
      "\u001b[1;36m  Cell \u001b[1;32mIn[32], line 2\u001b[1;36m\u001b[0m\n\u001b[1;33m    return = \"name\",\"enrollment_id\"\u001b[0m\n\u001b[1;37m           ^\u001b[0m\n\u001b[1;31mSyntaxError\u001b[0m\u001b[1;31m:\u001b[0m invalid syntax\n"
     ]
    }
   ],
   "source": [
    "def main ():\n",
    "    return = \"name\",\"enrollment_id\"\n",
    "main(name,enrollment_id)"
   ]
  },
  {
   "cell_type": "code",
   "execution_count": null,
   "id": "9b057caf-67cd-43f7-b937-75e51569d3a7",
   "metadata": {},
   "outputs": [],
   "source": [
    "def fun(enrollment_id):\n",
    "    y=input(\"enter yor enrollment id\")\n",
    "    return y\n",
    "def en(): \n",
    "    x=fun(enrollment_id)\n",
    "    a,b=x\n",
    "    lst=[]\n",
    "    \n",
    "en()"
   ]
  },
  {
   "cell_type": "code",
   "execution_count": 33,
   "id": "dc70c4b5-eb1d-4c6d-8dad-a0c0f15638bf",
   "metadata": {},
   "outputs": [
    {
     "name": "stdout",
     "output_type": "stream",
     "text": [
      "value-1\n",
      "value-2\n",
      "value-3\n"
     ]
    }
   ],
   "source": [
    "def items():\n",
    "    x={\"value-1\":1,\"value-2\":2,\"value-3\":3}\n",
    "    for item in x:\n",
    "        print(item)\n",
    "items()\n",
    "    "
   ]
  },
  {
   "cell_type": "code",
   "execution_count": 34,
   "id": "7af06536-76d7-4416-91bf-7d64668c01bf",
   "metadata": {},
   "outputs": [
    {
     "name": "stdout",
     "output_type": "stream",
     "text": [
      "('value-1', 1)\n",
      "('value-2', 2)\n",
      "('value-3', 3)\n"
     ]
    }
   ],
   "source": [
    "def items():\n",
    "    x={\"value-1\":1,\"value-2\":2,\"value-3\":3}\n",
    "    for item in x.items():\n",
    "        print(item)\n",
    "items()"
   ]
  },
  {
   "cell_type": "code",
   "execution_count": 35,
   "id": "8061bb98-cd76-490a-b2fb-04ab70c49f32",
   "metadata": {},
   "outputs": [
    {
     "name": "stdout",
     "output_type": "stream",
     "text": [
      "value-1 1\n",
      "value-2 2\n",
      "value-3 3\n"
     ]
    }
   ],
   "source": [
    "def items():\n",
    "    x={\"value-1\":1,\"value-2\":2,\"value-3\":3}\n",
    "    for i1,i2 in x.items():\n",
    "        print(i1,i2)\n",
    "items()\n",
    "    "
   ]
  },
  {
   "cell_type": "code",
   "execution_count": 36,
   "id": "599eda7c-2367-4d88-91a2-b6aabc16335f",
   "metadata": {},
   "outputs": [
    {
     "name": "stdout",
     "output_type": "stream",
     "text": [
      "('value-1', 1)\n",
      "('value-2', 2)\n",
      "('value-3', 3)\n"
     ]
    }
   ],
   "source": [
    "def items():\n",
    "    x={\"value-1\":1,\"value-2\":2,\"value-3\":3}\n",
    "    for x1 in x.items():\n",
    "        print(x1)\n",
    "items()"
   ]
  },
  {
   "cell_type": "code",
   "execution_count": 51,
   "id": "8e731ef5-5fcd-407a-8430-7a75db03b2da",
   "metadata": {},
   "outputs": [
    {
     "name": "stdin",
     "output_type": "stream",
     "text": [
      "Enter the enrollment id hg\n"
     ]
    },
    {
     "name": "stdout",
     "output_type": "stream",
     "text": [
      "Add enrollment id\n"
     ]
    },
    {
     "name": "stdin",
     "output_type": "stream",
     "text": [
      "Enter the enrollment_id hy\n",
      "Enter the name jhb\n"
     ]
    },
    {
     "name": "stdout",
     "output_type": "stream",
     "text": [
      "{'AU10': 'aditya', 'AU11': 'JAY', 'AU12': 'arun', 'hy': 'jhb'}\n"
     ]
    }
   ],
   "source": [
    "def dict():\n",
    "    student={\"AU10\":'aditya',\"AU11\":'JAY',\"AU12\":'arun'}\n",
    "    x=input(\"Enter the enrollment id\")\n",
    "    for i in student:\n",
    "        if x==i:\n",
    "            print(student[i])\n",
    "            break\n",
    "    else:\n",
    "        print(\"Add enrollment id\")\n",
    "        p=input(\"Enter the enrollment_id\")\n",
    "        q=input(\"Enter the name\")\n",
    "        student[p]=q\n",
    "     \n",
    "    print(student)\n",
    "    \n",
    "dict()"
   ]
  },
  {
   "cell_type": "code",
   "execution_count": 53,
   "id": "675dbbf6-de6a-41b3-85d1-3523951d3b5e",
   "metadata": {},
   "outputs": [
    {
     "name": "stdin",
     "output_type": "stream",
     "text": [
      "Enter the enrollment id MNHGFDS\n",
      "enter the no of enrollerment id which you want to add 3\n"
     ]
    },
    {
     "name": "stdout",
     "output_type": "stream",
     "text": [
      "Add enrollment id 1\n"
     ]
    },
    {
     "name": "stdin",
     "output_type": "stream",
     "text": [
      "Enter the enrollment_id AU13\n",
      "Enter the name VIDYA\n"
     ]
    },
    {
     "name": "stdout",
     "output_type": "stream",
     "text": [
      "Add enrollment id 2\n"
     ]
    },
    {
     "name": "stdin",
     "output_type": "stream",
     "text": [
      "Enter the enrollment_id AU14\n",
      "Enter the name VIKASH\n"
     ]
    },
    {
     "name": "stdout",
     "output_type": "stream",
     "text": [
      "Add enrollment id 3\n"
     ]
    },
    {
     "name": "stdin",
     "output_type": "stream",
     "text": [
      "Enter the enrollment_id AU15\n",
      "Enter the name MAMTA\n"
     ]
    },
    {
     "name": "stdout",
     "output_type": "stream",
     "text": [
      "{'AU10': 'aditya', 'AU11': 'JAY', 'AU12': 'arun', 'AU13': 'VIDYA', 'AU14': 'VIKASH', 'AU15': 'MAMTA'}\n"
     ]
    }
   ],
   "source": [
    "def dict():\n",
    "    student={\"AU10\":'aditya',\"AU11\":'JAY',\"AU12\":'arun'}\n",
    "    x=input(\"Enter the enrollment id\")\n",
    "    for i in student:\n",
    "        if x==i:\n",
    "            print(student[i])\n",
    "            break\n",
    "    else:\n",
    "        n=int(input(\"enter the no of enrollerment id which you want to add\"))\n",
    "        for i in range(1,n+1):\n",
    "            print(\"Add enrollment id\",i)\n",
    "            p=input(\"Enter the enrollment_id\")\n",
    "            q=input(\"Enter the name\")\n",
    "            student[p]=q\n",
    "     \n",
    "    print(student)\n",
    "    \n",
    "dict()"
   ]
  },
  {
   "cell_type": "code",
   "execution_count": 60,
   "id": "2e08ea42-3dee-47ec-97b2-1cb9d556210c",
   "metadata": {},
   "outputs": [
    {
     "name": "stdin",
     "output_type": "stream",
     "text": [
      "Enter the enrollment id AU10\n"
     ]
    },
    {
     "name": "stdout",
     "output_type": "stream",
     "text": [
      "{'AU11': 'JAY', 'AU12': 'arun'}\n"
     ]
    }
   ],
   "source": [
    "def dict():\n",
    "    student={\"AU10\":'aditya',\"AU11\":'JAY',\"AU12\":'arun'}\n",
    "    x=input(\"Enter the enrollment id\")\n",
    "    for i in student:\n",
    "        if x==i:\n",
    "            student.pop(x)\n",
    "            print(student)\n",
    "            break\n",
    "        else:\n",
    "            p=input(\"add enrollment_id\")\n",
    "            q=input(\"add name\")\n",
    "            student[p]=q\n",
    "        print(student)\n",
    "dict()"
   ]
  },
  {
   "cell_type": "code",
   "execution_count": 68,
   "id": "bee6e62f-6048-4336-b978-6b764b776217",
   "metadata": {},
   "outputs": [
    {
     "name": "stdin",
     "output_type": "stream",
     "text": [
      "Enter the no of enrollment id which should be removed 2\n"
     ]
    },
    {
     "name": "stdout",
     "output_type": "stream",
     "text": [
      "Enter the enrollment id 1\n"
     ]
    },
    {
     "name": "stdin",
     "output_type": "stream",
     "text": [
      "enter the enrollment id AU10\n"
     ]
    },
    {
     "name": "stdout",
     "output_type": "stream",
     "text": [
      "Enter the enrollment id 2\n"
     ]
    },
    {
     "name": "stdin",
     "output_type": "stream",
     "text": [
      "enter the enrollment id Au11\n"
     ]
    },
    {
     "name": "stdout",
     "output_type": "stream",
     "text": [
      "{'AU10': 'aditya', 'AU11': 'JAY', 'AU12': 'arun'}\n"
     ]
    }
   ],
   "source": [
    "def dict():\n",
    "    student={\"AU10\":'aditya',\"AU11\":'JAY',\"AU12\":'arun'}\n",
    "    x=int(input(\"Enter the no of enrollment id which should be removed\"))\n",
    "    for i in range(1,x+1):\n",
    "        print(\"Enter the enrollment id\",i)\n",
    "        y=input(\"enter the enrollment id\")\n",
    "        if y==student:\n",
    "            student.pop(y)\n",
    "    print(student)\n",
    "            \n",
    "  \n",
    "dict()"
   ]
  },
  {
   "cell_type": "code",
   "execution_count": null,
   "id": "28242661-bcb2-48df-904e-2c2f4b2b3568",
   "metadata": {},
   "outputs": [],
   "source": []
  }
 ],
 "metadata": {
  "kernelspec": {
   "display_name": "Python 3 (ipykernel)",
   "language": "python",
   "name": "python3"
  },
  "language_info": {
   "codemirror_mode": {
    "name": "ipython",
    "version": 3
   },
   "file_extension": ".py",
   "mimetype": "text/x-python",
   "name": "python",
   "nbconvert_exporter": "python",
   "pygments_lexer": "ipython3",
   "version": "3.12.3"
  }
 },
 "nbformat": 4,
 "nbformat_minor": 5
}
